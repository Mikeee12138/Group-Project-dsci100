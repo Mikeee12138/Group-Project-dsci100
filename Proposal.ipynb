{
 "cells": [
  {
   "cell_type": "markdown",
   "id": "96edaeb2-a259-4b91-bbdd-1907d084fbab",
   "metadata": {},
   "source": [
    "# Proposal"
   ]
  },
  {
   "cell_type": "code",
   "execution_count": null,
   "id": "8f2e9371-3941-48bc-ae35-978863ac4014",
   "metadata": {},
   "outputs": [],
   "source": []
  }
 ],
 "metadata": {
  "kernelspec": {
   "display_name": "R",
   "language": "R",
   "name": "ir"
  },
  "language_info": {
   "codemirror_mode": "r",
   "file_extension": ".r",
   "mimetype": "text/x-r-source",
   "name": "R",
   "pygments_lexer": "r",
   "version": "4.2.2"
  }
 },
 "nbformat": 4,
 "nbformat_minor": 5
}
