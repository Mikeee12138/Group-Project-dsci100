{
 "cells": [
  {
   "cell_type": "markdown",
   "id": "96edaeb2-a259-4b91-bbdd-1907d084fbab",
   "metadata": {},
   "source": [
    "# Project-008-2 Heart Disease \n",
    "\n",
    "### Predicting Heart Disease Diagnosis\n",
    "\n",
    "### Introduction \n",
    "\n",
    "The cardiovascular system encompasses an intricate network of blood vessels, including veins, arteries, and capillaries, which facilitate the circulation of blood throughout the body. Any disruptions in the flow of blood emanating from the heart can lead to various forms of heart diseases, collectively referred to as cardiovascular or heart diseases. Globally, heart diseases constitute a leading cause of mortality - the World Health Organization (WHO) indicates that approximately 17.5 million deaths annually are attributable to heart attacks and strokes. Consequently, the early detection of cardiac anomalies is imperative as it can significantly save lives and assist healthcare professionals in crafting effective treatment strategies. \n",
    "\n",
    "In this study, we will examine a dataset that contains test results from 303 patients referred for coronary angiography at the Cleveland Clinic in Ohio between May 1981 and September 1984. All the patients had similar medical profiles and underwent the same non-invasive tests, namely, exercise electrocardiogram, exercise thallium scintigraphy and fluoroscopy for coronary calcium. \n",
    "\n",
    "The clinical and test variables included in this dataset are per the below, while the target variable is the angiographic disease status, where the value 0 corresponds to the major vessels show less than 50% narrowing of the vessels diameter while the value 1 corresponds to showing greater than 50% narrowing of the vessels diameter.\n",
    "\n",
    "Clinical \n",
    "Age\n",
    "Sex\n",
    "1 = male\n",
    "0 = female \n",
    "Chest Pain Type \n",
    "1 = typical anginal \n",
    "2 = atypical anginal\n",
    "3 = nonanginal \n",
    "4 = asymptomatic\n",
    "Systolic Blood Pressure (in mmHg on admission to the hospital)\n",
    "\n",
    "Routine Test Data Collected\n",
    "Serum cholesterol determination (in mg/dl) \n",
    "Fasting blood sugar determination (fasting blood sugar > 120 mg/dl)\n",
    "\t1 = true\n",
    "\t0 = false\n",
    "Resting electrocardiographic results\n",
    "\t0 = normal\n",
    "\t1 = having ST-T wave abnormality\n",
    "\t2 = showing probable or definite left ventricular hypertrophy by Estes’ criteria\n",
    "\n",
    "Exercise Test Data Collected\n",
    "Maximum heart rate achieved (beats per minute)\n",
    "Exercise induced angina \n",
    "\t1 = yes\n",
    "\t0 = no\n",
    "ST depression induced by exercise relative to rest\n",
    "Slope of the peak exercise ST segment\n",
    "1 = upsloping \n",
    "2 = flat\n",
    "3 = downsloping \n",
    "\n",
    "Other Non-invasive Test Data Collected\n",
    "Number of major vessels colored by fluoroscopy for coronary calcium (0 - 3)\n",
    "Exercise thallium scintigraphy results\n",
    "3 = normal\n",
    "6 = fixed defect\n",
    "7 = reversible defect\n",
    "\n",
    "In this study, we will address the predictive question: can we use clinical and test data available to us to predict a diagnosis of heart disease. This is important as it provides a quick and data-driven method to diagnose heart disease and eliminates subjectivity and dependence on the skill and experience of the diagnosing physician. \n"
   ]
  },
  {
   "cell_type": "code",
   "execution_count": null,
   "id": "8f2e9371-3941-48bc-ae35-978863ac4014",
   "metadata": {
    "tags": []
   },
   "outputs": [],
   "source": [
    "library(tidyverse)\n",
    "library(repr)\n",
    "library(tidymodels)\n",
    "options(repr.matrix.max.rows = 6)\n",
    "source('tests.R')\n",
    "source('cleanup.R')"
   ]
  },
  {
   "cell_type": "code",
   "execution_count": null,
   "id": "9f8abe76-78f9-416b-ba65-a32046e00e53",
   "metadata": {
    "tags": []
   },
   "outputs": [],
   "source": [
    "heart_disease <- read_csv(\"processed.cleveland.data\", col_names = FALSE)\n",
    "colnames(heart_disease) <- c(\"age\", \"sex\", \"cp\", \"trestbps\", \"chol\", \"fbs\", \"restecg\", \"thalach\", \"exang\", \"oldpeak\", \"slope\", \"ca\", \"thal\", \"num\")\n",
    "heart_disease"
   ]
  },
  {
   "cell_type": "code",
   "execution_count": null,
   "id": "03d91949-9b27-43f8-a52a-05753b7f7c54",
   "metadata": {
    "tags": []
   },
   "outputs": [],
   "source": [
    "heart_disease <- mutate(heart_disease, num = as.factor(num))\n",
    "heart_disease_plot <- heart_disease |>\n",
    "ggplot(aes (x = cp, fill = num)) +\n",
    "geom_bar(position = \"dodge\")\n",
    "heart_disease_plot\n",
    "#The plot shows that people with type 4 chest pain (asymptomatic, so actually no chest pain) are more likely to be diagnosed with cancer"
   ]
  },
  {
   "cell_type": "code",
   "execution_count": null,
   "id": "bcd23ade-cb97-434e-ab71-891f7e3f0a0d",
   "metadata": {},
   "outputs": [],
   "source": [
    "heart_disease_split <- initial_split(heart_disease , prop = 0.75, strata = num)  \n",
    "heart_disease_train <- training(heart_disease_split)   \n",
    "heart_disease_test<- testing(heart_disease_split)\n",
    "heart_disease_train"
   ]
  },
  {
   "cell_type": "code",
   "execution_count": null,
   "id": "cc6cfc11-5c08-4aa8-96e6-7a3cb54e7409",
   "metadata": {},
   "outputs": [],
   "source": []
  },
  {
   "cell_type": "markdown",
   "id": "406a1373-1cf0-40f6-93a2-9e0a51f32b66",
   "metadata": {},
   "source": [
    "### Methods \n",
    "Explain how you will conduct either your data analysis and which variables/columns you will use. Note - you do not need to use all variables/columns that exist in the raw data set. In fact, that's often not a good idea. For each variable think: is this a useful variable for prediction?\n",
    "\n",
    "\n",
    "\n",
    "\n",
    "\n",
    "Describe at least one way that you will visualize the results"
   ]
  }
 ],
 "metadata": {
  "kernelspec": {
   "display_name": "R",
   "language": "R",
   "name": "ir"
  },
  "language_info": {
   "codemirror_mode": "r",
   "file_extension": ".r",
   "mimetype": "text/x-r-source",
   "name": "R",
   "pygments_lexer": "r",
   "version": "4.2.2"
  }
 },
 "nbformat": 4,
 "nbformat_minor": 5
}
